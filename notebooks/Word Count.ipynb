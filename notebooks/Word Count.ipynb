{
 "cells": [
  {
   "cell_type": "code",
   "execution_count": 34,
   "metadata": {
    "collapsed": false
   },
   "outputs": [],
   "source": [
    "from nltk.tokenize import word_tokenize\n",
    "from nltk.corpus import stopwords\n",
    "import string\n",
    "import itertools\n",
    "import re"
   ]
  },
  {
   "cell_type": "code",
   "execution_count": 15,
   "metadata": {
    "collapsed": true
   },
   "outputs": [],
   "source": [
    "from collections import Counter"
   ]
  },
  {
   "cell_type": "code",
   "execution_count": 16,
   "metadata": {
    "collapsed": true
   },
   "outputs": [],
   "source": [
    "all_text = open('../data/europarl_speech_text.txt').read()"
   ]
  },
  {
   "cell_type": "code",
   "execution_count": 39,
   "metadata": {
    "collapsed": true
   },
   "outputs": [],
   "source": [
    "all_languages = ['danish', 'dutch', 'english', 'finnish', 'french', 'german', 'hungarian', 'italian', \n",
    "                 'norwegian', 'portuguese', 'russian', 'spanish', 'swedish', 'turkish']"
   ]
  },
  {
   "cell_type": "code",
   "execution_count": 40,
   "metadata": {
    "collapsed": false
   },
   "outputs": [],
   "source": [
    "all_stops = list(itertools.chain.from_iterable(\n",
    "        [stopwords.words(l) for l in all_languages] + list(string.punctuation)))"
   ]
  },
  {
   "cell_type": "code",
   "execution_count": 41,
   "metadata": {
    "collapsed": false
   },
   "outputs": [],
   "source": [
    "cntr = Counter([w for w in word_tokenize(all_text) if w.lower() not in all_stops and \n",
    "                len(re.sub(r'[^\\w\\s]', '', w))])"
   ]
  },
  {
   "cell_type": "code",
   "execution_count": 42,
   "metadata": {
    "collapsed": false
   },
   "outputs": [
    {
     "data": {
      "text/plain": [
       "[('za', 33115),\n",
       " ('και', 31623),\n",
       " ('v', 26001),\n",
       " ('της', 23616),\n",
       " ('την', 20887),\n",
       " ('și', 19477),\n",
       " ('να', 18508),\n",
       " ('rapport', 18331),\n",
       " ('European', 18112),\n",
       " ('ir', 17473),\n",
       " ('în', 16983),\n",
       " ('w', 16024),\n",
       " ('européenne', 15806),\n",
       " ('Commission', 15670),\n",
       " ('report', 15647),\n",
       " ('των', 15422),\n",
       " ('UE', 15356),\n",
       " ('voted', 14807),\n",
       " ('voté', 14081),\n",
       " ('plus', 13837)]"
      ]
     },
     "execution_count": 42,
     "metadata": {},
     "output_type": "execute_result"
    }
   ],
   "source": [
    "cntr.most_common(20)"
   ]
  },
  {
   "cell_type": "code",
   "execution_count": 44,
   "metadata": {
    "collapsed": false
   },
   "outputs": [
    {
     "data": {
      "text/plain": [
       "712069"
      ]
     },
     "execution_count": 44,
     "metadata": {},
     "output_type": "execute_result"
    }
   ],
   "source": [
    "len(cntr.values())"
   ]
  },
  {
   "cell_type": "code",
   "execution_count": null,
   "metadata": {
    "collapsed": true
   },
   "outputs": [],
   "source": []
  }
 ],
 "metadata": {
  "kernelspec": {
   "display_name": "Python 3",
   "language": "python",
   "name": "python3"
  },
  "language_info": {
   "codemirror_mode": {
    "name": "ipython",
    "version": 3
   },
   "file_extension": ".py",
   "mimetype": "text/x-python",
   "name": "python",
   "nbconvert_exporter": "python",
   "pygments_lexer": "ipython3",
   "version": "3.4.3"
  }
 },
 "nbformat": 4,
 "nbformat_minor": 0
}
