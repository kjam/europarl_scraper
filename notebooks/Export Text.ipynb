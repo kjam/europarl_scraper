{
 "cells": [
  {
   "cell_type": "code",
   "execution_count": 1,
   "metadata": {
    "collapsed": true
   },
   "outputs": [],
   "source": [
    "import pandas as pd"
   ]
  },
  {
   "cell_type": "code",
   "execution_count": 2,
   "metadata": {
    "collapsed": true
   },
   "outputs": [],
   "source": [
    "df = pd.read_csv('../data/speeches.csv')"
   ]
  },
  {
   "cell_type": "code",
   "execution_count": 3,
   "metadata": {
    "collapsed": false
   },
   "outputs": [
    {
     "data": {
      "text/html": [
       "<div>\n",
       "<table border=\"1\" class=\"dataframe\">\n",
       "  <thead>\n",
       "    <tr style=\"text-align: right;\">\n",
       "      <th></th>\n",
       "      <th>speech_location</th>\n",
       "      <th>pol_group</th>\n",
       "      <th>language</th>\n",
       "      <th>speech_type</th>\n",
       "      <th>text</th>\n",
       "      <th>topic_links</th>\n",
       "      <th>topic</th>\n",
       "      <th>speech_date</th>\n",
       "      <th>text_url</th>\n",
       "      <th>note</th>\n",
       "      <th>speaker_id</th>\n",
       "    </tr>\n",
       "  </thead>\n",
       "  <tbody>\n",
       "    <tr>\n",
       "      <th>0</th>\n",
       "      <td>Strasbourg</td>\n",
       "      <td>PPE</td>\n",
       "      <td>sv - svenska</td>\n",
       "      <td>Debates</td>\n",
       "      <td>Resolutionen tar upp den humanitära katastrofe...</td>\n",
       "      <td>/sides/getDoc.do?type=MOTION&amp;reference=B8-2016...</td>\n",
       "      <td>6.2. Situation in Syria (B8-1089/2016,B8-1090/...</td>\n",
       "      <td>Thursday, 6 October 2016</td>\n",
       "      <td>http://www.europarl.europa.eu/sides/getDoc.do?...</td>\n",
       "      <td>skriftlig. ‒</td>\n",
       "      <td>124990</td>\n",
       "    </tr>\n",
       "    <tr>\n",
       "      <th>1</th>\n",
       "      <td>Strasbourg</td>\n",
       "      <td>PPE</td>\n",
       "      <td>sv - svenska</td>\n",
       "      <td>Debates</td>\n",
       "      <td>Idag röstade Europaparlamentet om en resolutio...</td>\n",
       "      <td>/sides/getDoc.do?type=MOTION&amp;reference=B8-2016...</td>\n",
       "      <td>9.5. European Public Prosecutor's office and E...</td>\n",
       "      <td>Wednesday, 5 October 2016</td>\n",
       "      <td>http://www.europarl.europa.eu/sides/getDoc.do?...</td>\n",
       "      <td>skriftlig. ‒</td>\n",
       "      <td>124990</td>\n",
       "    </tr>\n",
       "    <tr>\n",
       "      <th>2</th>\n",
       "      <td>Strasbourg</td>\n",
       "      <td>PPE</td>\n",
       "      <td>sv - svenska</td>\n",
       "      <td>Debates</td>\n",
       "      <td>Idag röstade Europaparlamentet om  en resoluti...</td>\n",
       "      <td>/sides/getDoc.do?type=MOTION&amp;reference=P8-RC-2...</td>\n",
       "      <td>9.6. Need for a European reindustrialisation p...</td>\n",
       "      <td>Wednesday, 5 October 2016</td>\n",
       "      <td>http://www.europarl.europa.eu/sides/getDoc.do?...</td>\n",
       "      <td>skriftlig. ‒</td>\n",
       "      <td>124990</td>\n",
       "    </tr>\n",
       "    <tr>\n",
       "      <th>3</th>\n",
       "      <td>Strasbourg</td>\n",
       "      <td>PPE</td>\n",
       "      <td>sv - svenska</td>\n",
       "      <td>Debates</td>\n",
       "      <td>Europaparlamentet röstade idag för ett icke-la...</td>\n",
       "      <td>/sides/getDoc.do?type=REPORT&amp;reference=A8-2016...</td>\n",
       "      <td>5.7. The fight against trafficking in human be...</td>\n",
       "      <td>Tuesday, 5 July 2016</td>\n",
       "      <td>http://www.europarl.europa.eu/sides/getDoc.do?...</td>\n",
       "      <td>skriftlig. ‒</td>\n",
       "      <td>124990</td>\n",
       "    </tr>\n",
       "    <tr>\n",
       "      <th>4</th>\n",
       "      <td>Strasbourg</td>\n",
       "      <td>PPE</td>\n",
       "      <td>sv - svenska</td>\n",
       "      <td>Debates</td>\n",
       "      <td>Idag röstade Europaparlamentet om sin linje i ...</td>\n",
       "      <td>/sides/getDoc.do?type=REPORT&amp;reference=A8-2016...</td>\n",
       "      <td>5.19. Creating labour market conditions favour...</td>\n",
       "      <td>Tuesday, 13 September 2016</td>\n",
       "      <td>http://www.europarl.europa.eu/sides/getDoc.do?...</td>\n",
       "      <td>skriftlig. ‒</td>\n",
       "      <td>124990</td>\n",
       "    </tr>\n",
       "  </tbody>\n",
       "</table>\n",
       "</div>"
      ],
      "text/plain": [
       "  speech_location pol_group      language speech_type  \\\n",
       "0      Strasbourg       PPE  sv - svenska     Debates   \n",
       "1      Strasbourg       PPE  sv - svenska     Debates   \n",
       "2      Strasbourg       PPE  sv - svenska     Debates   \n",
       "3      Strasbourg       PPE  sv - svenska     Debates   \n",
       "4      Strasbourg       PPE  sv - svenska     Debates   \n",
       "\n",
       "                                                text  \\\n",
       "0  Resolutionen tar upp den humanitära katastrofe...   \n",
       "1  Idag röstade Europaparlamentet om en resolutio...   \n",
       "2  Idag röstade Europaparlamentet om  en resoluti...   \n",
       "3  Europaparlamentet röstade idag för ett icke-la...   \n",
       "4  Idag röstade Europaparlamentet om sin linje i ...   \n",
       "\n",
       "                                         topic_links  \\\n",
       "0  /sides/getDoc.do?type=MOTION&reference=B8-2016...   \n",
       "1  /sides/getDoc.do?type=MOTION&reference=B8-2016...   \n",
       "2  /sides/getDoc.do?type=MOTION&reference=P8-RC-2...   \n",
       "3  /sides/getDoc.do?type=REPORT&reference=A8-2016...   \n",
       "4  /sides/getDoc.do?type=REPORT&reference=A8-2016...   \n",
       "\n",
       "                                               topic  \\\n",
       "0  6.2. Situation in Syria (B8-1089/2016,B8-1090/...   \n",
       "1  9.5. European Public Prosecutor's office and E...   \n",
       "2  9.6. Need for a European reindustrialisation p...   \n",
       "3  5.7. The fight against trafficking in human be...   \n",
       "4  5.19. Creating labour market conditions favour...   \n",
       "\n",
       "                  speech_date  \\\n",
       "0    Thursday, 6 October 2016   \n",
       "1   Wednesday, 5 October 2016   \n",
       "2   Wednesday, 5 October 2016   \n",
       "3        Tuesday, 5 July 2016   \n",
       "4  Tuesday, 13 September 2016   \n",
       "\n",
       "                                            text_url          note speaker_id  \n",
       "0  http://www.europarl.europa.eu/sides/getDoc.do?...  skriftlig. ‒     124990  \n",
       "1  http://www.europarl.europa.eu/sides/getDoc.do?...  skriftlig. ‒     124990  \n",
       "2  http://www.europarl.europa.eu/sides/getDoc.do?...  skriftlig. ‒     124990  \n",
       "3  http://www.europarl.europa.eu/sides/getDoc.do?...  skriftlig. ‒     124990  \n",
       "4  http://www.europarl.europa.eu/sides/getDoc.do?...  skriftlig. ‒     124990  "
      ]
     },
     "execution_count": 3,
     "metadata": {},
     "output_type": "execute_result"
    }
   ],
   "source": [
    "df.head()"
   ]
  },
  {
   "cell_type": "code",
   "execution_count": 4,
   "metadata": {
    "collapsed": false
   },
   "outputs": [
    {
     "data": {
      "text/plain": [
       "0    Resolutionen tar upp den humanitära katastrofe...\n",
       "1    Idag röstade Europaparlamentet om en resolutio...\n",
       "2    Idag röstade Europaparlamentet om  en resoluti...\n",
       "3    Europaparlamentet röstade idag för ett icke-la...\n",
       "4    Idag röstade Europaparlamentet om sin linje i ...\n",
       "Name: text, dtype: object"
      ]
     },
     "execution_count": 4,
     "metadata": {},
     "output_type": "execute_result"
    }
   ],
   "source": [
    "df.text.head()"
   ]
  },
  {
   "cell_type": "code",
   "execution_count": 5,
   "metadata": {
    "collapsed": false
   },
   "outputs": [
    {
     "data": {
      "text/plain": [
       "'Resolutionen tar upp den humanitära katastrofen i Syrien, med särskilt fokus på situationen i Aleppo. Jag välkomnar att alla parter, särskilt Ryssland och Assadregimen, uppmanas upphöra med angrepp mot civilbefolkningen och den civila infrastrukturen. Jag valde därför att rösta ja till resolutionen. Samtidigt konstaterar jag att resolutionen kunnat gå längre i fråga om de ryska bombningarna mot civila. Vad som nu sker i östra Aleppo, med attacker mot bland annat sjukhus, är enligt samstämmiga bedömningar inget mindre än brott mot krigets lagar och internationell rätt. Detta borde Europaparlamantet understryka.'"
      ]
     },
     "execution_count": 5,
     "metadata": {},
     "output_type": "execute_result"
    }
   ],
   "source": [
    "df.text.iloc[0]"
   ]
  },
  {
   "cell_type": "code",
   "execution_count": 7,
   "metadata": {
    "collapsed": false
   },
   "outputs": [],
   "source": [
    "df.text.to_csv('../data/europarl_speech_text.txt', index=False)"
   ]
  },
  {
   "cell_type": "code",
   "execution_count": null,
   "metadata": {
    "collapsed": true
   },
   "outputs": [],
   "source": []
  }
 ],
 "metadata": {
  "kernelspec": {
   "display_name": "Python 3",
   "language": "python",
   "name": "python3"
  },
  "language_info": {
   "codemirror_mode": {
    "name": "ipython",
    "version": 3
   },
   "file_extension": ".py",
   "mimetype": "text/x-python",
   "name": "python",
   "nbconvert_exporter": "python",
   "pygments_lexer": "ipython3",
   "version": "3.4.3"
  }
 },
 "nbformat": 4,
 "nbformat_minor": 0
}
